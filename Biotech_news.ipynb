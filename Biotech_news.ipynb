{
 "cells": [
  {
   "cell_type": "code",
   "execution_count": null,
   "metadata": {},
   "outputs": [],
   "source": [
    "# 導入本次爬蟲所需的模組\n",
    "import csv\n",
    "from datetime import date, datetime, timedelta\n",
    "\n",
    "import requests\n",
    "from pyquery import PyQuery as pq"
   ]
  },
  {
   "cell_type": "code",
   "execution_count": null,
   "metadata": {},
   "outputs": [],
   "source": [
    "# 先觀察網頁結構、網址變化\n",
    "\n",
    "# 用requests及pyquery\n",
    "res = requests.get(\"https://ibmi.taiwan-healthcare.org/news_list.php?REFDOCTYPID=0o4dd9ctwhtyumw0&PageNO=1\")\n",
    "doc = pq(res.text)\n",
    "nextPgDoc = doc"
   ]
  },
  {
   "cell_type": "code",
   "execution_count": null,
   "metadata": {},
   "outputs": [],
   "source": [
    "for Try in range(3):  #或者改成 while 迴圈，直到使用者輸入正確的數字才離開\n",
    "    try:\n",
    "        Day = int(input(\"輸入想要抓取幾天內的新聞_請輸入數字(天)： \"))+1\n",
    "        break\n",
    "    except:\n",
    "        print(\"請輸入一個正確的整數,你還有次{}機會\".format(2-Try))\n",
    "        if 2-Try == 0:\n",
    "            Day = -2    #為了讓後面的CSV檔可執行寫入，故意輸入一個負數\n",
    "    \n",
    "my_News_List = []\n",
    "\n",
    "pg = 1 \n",
    "while True:\n",
    "    res = requests.get(\"https://ibmi.taiwan-healthcare.org/news_list.php?REFDOCTYPID=0o4dd9ctwhtyumw0&PageNO={}\".format(pg))\n",
    "    doc = pq(res.text)\n",
    "\n",
    "    doc.make_links_absolute(base_url = res.url) \n",
    "#     print(len(doc(\"table.news-list-table > tr > td\"))) #觀察該頁面有無內容\n",
    "    if datetime.now() - timedelta(days = Day) > datetime.strptime(doc(\"table.news-list-table > tr:nth-child(2) > td:nth-child(1)\").text(),\"%Y-%m-%d\"):\n",
    "        break\n",
    "    for j, k, l in zip(doc(\"table.news-list-table > tr > td:nth-child(1)\").items(), doc(\"table.news-list-table > tr > td >a\").items(), doc(\"table.news-list-table > tr > td:nth-child(3)\").items()):\n",
    "        #以字典存入對應的資訊\n",
    "        temp_NewsDict = {}\n",
    "        newsDate = j.text()\n",
    "        if datetime.now() - timedelta(days = Day) <= datetime.strptime(newsDate,\"%Y-%m-%d\"):\n",
    "            temp_NewsDict[\"日期\"] = j.text()\n",
    "            temp_NewsDict[\"標題\"] = k.text()\n",
    "            temp_NewsDict[\"新聞媒體\"] = l.text()\n",
    "            print(k.text(), k.attr(\"href\")) #印出來檢查有沒有選到新聞標題及連結\n",
    "            NewsDetail_Doc = pq(k.attr(\"href\"))\n",
    "\n",
    "            for each_NewsDetail_Doc in NewsDetail_Doc.items():\n",
    "                temp_NewsDict[\"新聞內容\"] = each_NewsDetail_Doc(\"div.center-left-value\").text()\n",
    "    #             print(temp_NewsDict) #確認是否有存入對應的資訊到字典\n",
    "                my_News_List.append(temp_NewsDict)\n",
    "        else:\n",
    "            break\n",
    "    \n",
    "    pg += 1\n",
    "    if len(doc(\"table.news-list-table > tr > td > a\")) == 0:\n",
    "        break"
   ]
  },
  {
   "cell_type": "code",
   "execution_count": null,
   "metadata": {},
   "outputs": [],
   "source": [
    "# 將檔案存成.csv檔\n",
    "# 在一個 csv 檔案中插入多個字典\n",
    "\n",
    "labels = [\"日期\", \"標題\", \"新聞媒體\", \"新聞內容\"]\n",
    "\n",
    "# 為了防止外部錯誤或關於檔案寫入過程的不相容，使用例外處理\n",
    "try:\n",
    "    with open(\"{}_{}天內_生技醫療新聞.csv\".format(datetime.now().strftime(\"%Y-%m-%d\"), Day-1),\"w\",encoding=\"UTF-16\", newline=\"\") as f:\n",
    "        writer = csv.DictWriter(f, fieldnames=labels)\n",
    "        writer.writeheader()\n",
    "        for elem in my_News_List:\n",
    "            writer.writerow(elem)\n",
    "except IOError:\n",
    "    print(\"I/O error\")"
   ]
  },
  {
   "cell_type": "code",
   "execution_count": null,
   "metadata": {},
   "outputs": [],
   "source": []
  }
 ],
 "metadata": {
  "kernelspec": {
   "display_name": "Python 3 (ipykernel)",
   "language": "python",
   "name": "python3"
  },
  "language_info": {
   "codemirror_mode": {
    "name": "ipython",
    "version": 3
   },
   "file_extension": ".py",
   "mimetype": "text/x-python",
   "name": "python",
   "nbconvert_exporter": "python",
   "pygments_lexer": "ipython3",
   "version": "3.9.12"
  }
 },
 "nbformat": 4,
 "nbformat_minor": 4
}
